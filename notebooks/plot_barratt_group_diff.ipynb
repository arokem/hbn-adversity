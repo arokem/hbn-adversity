{
 "cells": [
  {
   "cell_type": "code",
   "execution_count": null,
   "id": "c9c6fdaf-532a-460b-b731-5741fed0a08e",
   "metadata": {},
   "outputs": [],
   "source": [
    "import afqinsight as afqi\n",
    "import matplotlib.pyplot as plt\n",
    "import numpy as np\n",
    "import os.path as op\n",
    "import pandas as pd\n",
    "import seaborn as sns\n",
    "\n",
    "from afqinsight import AFQDataset\n",
    "from afqinsight.plot import plot_tract_profiles\n",
    "from afqinsight.match import mahalonobis_dist_match\n",
    "from neurocombat_sklearn import CombatModel\n",
    "from sklearn.impute import SimpleImputer, KNNImputer"
   ]
  },
  {
   "cell_type": "code",
   "execution_count": null,
   "id": "af812245-8689-4fba-a55c-4fc642146969",
   "metadata": {},
   "outputs": [],
   "source": [
    "workdir = \"../nles\"\n",
    "fn_nodes=op.join(workdir, \"combined_tract_profiles_merged.csv\")\n",
    "fn_subjects=op.join(workdir, \"pheno_merged.csv\")\n",
    "\n",
    "unsupervised_dataset = AFQDataset.from_files(\n",
    "    fn_nodes=fn_nodes,\n",
    "    dwi_metrics=[\"dki_fa\", \"dki_md\"],\n",
    "    unsupervised=True,\n",
    "    concat_subject_session=True,\n",
    ")\n",
    "\n",
    "dataset = AFQDataset.from_files(\n",
    "    fn_nodes=fn_nodes,\n",
    "    fn_subjects=fn_subjects,\n",
    "    dwi_metrics=[\"dki_fa\", \"dki_md\"],\n",
    "    target_cols=[\"Barratt_Total\", \"Age\", \"Sex\", \"NLES_P_TotalEvents\", \"NLES_P_Upset_Total\"],\n",
    ")"
   ]
  },
  {
   "cell_type": "code",
   "execution_count": null,
   "id": "20dc36d8-6c9f-4a43-820f-99c6a80e912c",
   "metadata": {},
   "outputs": [],
   "source": [
    "subjects = [sub.split(\"HBNsite\")[0] for sub in unsupervised_dataset.subjects]\n",
    "sites = [sub.split(\"HBNsite\")[1] for sub in unsupervised_dataset.subjects]\n",
    "\n",
    "assert dataset.subjects == subjects\n",
    "dataset.sessions = sites"
   ]
  },
  {
   "cell_type": "code",
   "execution_count": null,
   "id": "ab4061e4-14d4-4830-b3f6-0ae2bd2b66b4",
   "metadata": {},
   "outputs": [],
   "source": [
    "df_y = pd.DataFrame(index=dataset.subjects, data=dataset.y, columns=dataset.target_cols)\n",
    "df_y[\"Site\"] = dataset.sessions\n",
    "df_y"
   ]
  },
  {
   "cell_type": "code",
   "execution_count": null,
   "id": "7ffa9b40-8ed1-4d54-92ab-01e5220c4ec1",
   "metadata": {},
   "outputs": [],
   "source": [
    "pd.unique(df_y[\"Site\"])"
   ]
  },
  {
   "cell_type": "code",
   "execution_count": null,
   "id": "a4c6744a-d9bc-4325-a7db-99de31f02314",
   "metadata": {},
   "outputs": [],
   "source": [
    "df_y[\"site_index\"] = df_y[\"Site\"].map({\n",
    "    \"RU\": 0.0,\n",
    "    \"SI\": 1.0,\n",
    "    \"CBIC\": 2.0,\n",
    "    \"CUNY\": 3.0,\n",
    "})\n",
    "\n",
    "imputer = SimpleImputer(strategy=\"median\")\n",
    "X_imputed = imputer.fit_transform(dataset.X)\n",
    "\n",
    "X_site_harmonized = CombatModel().fit_transform(\n",
    "    X_imputed,\n",
    "    df_y[[\"site_index\"]],\n",
    "    None,\n",
    "    None,\n",
    ")\n",
    "\n",
    "X_site_and_pheno_harmonized = CombatModel().fit_transform(\n",
    "    X_imputed,\n",
    "    df_y[[\"site_index\"]],\n",
    "    None,\n",
    "    df_y[[\"Age\", \"Sex\"]],\n",
    ")"
   ]
  },
  {
   "cell_type": "code",
   "execution_count": null,
   "id": "7c3fe1d9-71ed-40d8-8da5-9ce4a1af40e4",
   "metadata": {},
   "outputs": [],
   "source": [
    "sns.histplot(data=df_y, x=\"Barratt_Total\")"
   ]
  },
  {
   "cell_type": "code",
   "execution_count": null,
   "id": "142463f1-a926-4e6c-a6e8-08249a22ca93",
   "metadata": {},
   "outputs": [],
   "source": [
    "df_y[\"Barratt_class\"] = (df_y[\"Barratt_Total\"] > df_y[\"Barratt_Total\"].median()).astype(int)"
   ]
  },
  {
   "cell_type": "code",
   "execution_count": null,
   "id": "9a18e042-845b-4711-acc1-ac27cabd72ca",
   "metadata": {},
   "outputs": [],
   "source": [
    "matched = afqi.match.mahalonobis_dist_match(\n",
    "    df_y, status_col=\"Barratt_class\", feature_cols=[\"Age\", \"Sex\"]\n",
    ")"
   ]
  },
  {
   "cell_type": "code",
   "execution_count": null,
   "id": "c5bd92b8-0741-4ee1-af4c-e6caae815e51",
   "metadata": {},
   "outputs": [],
   "source": [
    "sns.pairplot(data=matched, vars=[\"Barratt_Total\", \"Age\", \"Sex\"], hue=\"Barratt_class\")"
   ]
  },
  {
   "cell_type": "code",
   "execution_count": null,
   "id": "73793f8c-b326-460b-9fae-02086ce03048",
   "metadata": {},
   "outputs": [],
   "source": [
    "matched"
   ]
  },
  {
   "cell_type": "code",
   "execution_count": null,
   "id": "e2f57c80-9bb2-42c8-83fc-ce59cde251c3",
   "metadata": {},
   "outputs": [],
   "source": [
    "df_nodes = {\n",
    "    \"imputed\": pd.DataFrame(data=X_imputed, index=dataset.subjects),\n",
    "    \"site_harmonized\": pd.DataFrame(data=X_site_harmonized, index=dataset.subjects),\n",
    "    \"site_pheno_harmonized\": pd.DataFrame(data=X_site_and_pheno_harmonized, index=dataset.subjects),\n",
    "}"
   ]
  },
  {
   "cell_type": "code",
   "execution_count": null,
   "id": "bb23de10-2481-4b57-81d3-789790ba5f54",
   "metadata": {},
   "outputs": [],
   "source": [
    "df_nodes_matched = {\n",
    "    key: pd.DataFrame(index=matched.index).merge(df, how=\"left\", left_index=True, right_index=True)\n",
    "    for key, df in df_nodes.items()\n",
    "}"
   ]
  },
  {
   "cell_type": "code",
   "execution_count": null,
   "id": "43256e4a-6a8d-4541-b8ec-708e72d0ad48",
   "metadata": {},
   "outputs": [],
   "source": [
    "nles_sites = plot_tract_profiles(\n",
    "    X=df_nodes_matched[\"site_pheno_harmonized\"].to_numpy(),\n",
    "    groups=dataset.groups,\n",
    "    group_names=dataset.group_names,\n",
    "    group_by=matched[\"Barratt_Total\"],\n",
    "    group_by_name=\"Barratt\",\n",
    "    palette=\"colorblind\",\n",
    "    figsize=(14, 14),\n",
    "    quantiles=4,\n",
    ")"
   ]
  },
  {
   "cell_type": "code",
   "execution_count": null,
   "id": "85c9fbb8-d825-468c-b5f4-86362eac1f0b",
   "metadata": {},
   "outputs": [],
   "source": []
  }
 ],
 "metadata": {
  "kernelspec": {
   "display_name": "Python 3 (ipykernel)",
   "language": "python",
   "name": "python3"
  },
  "language_info": {
   "codemirror_mode": {
    "name": "ipython",
    "version": 3
   },
   "file_extension": ".py",
   "mimetype": "text/x-python",
   "name": "python",
   "nbconvert_exporter": "python",
   "pygments_lexer": "ipython3",
   "version": "3.9.10"
  }
 },
 "nbformat": 4,
 "nbformat_minor": 5
}
